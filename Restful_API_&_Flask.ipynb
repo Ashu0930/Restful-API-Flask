{
  "nbformat": 4,
  "nbformat_minor": 0,
  "metadata": {
    "colab": {
      "provenance": []
    },
    "kernelspec": {
      "name": "python3",
      "display_name": "Python 3"
    },
    "language_info": {
      "name": "python"
    }
  },
  "cells": [
    {
      "cell_type": "markdown",
      "source": [
        "# Restful API & Flask"
      ],
      "metadata": {
        "id": "dj3tCYjT8WVz"
      }
    },
    {
      "cell_type": "markdown",
      "source": [
        "#1. What is a RESTful API?"
      ],
      "metadata": {
        "id": "gwiUYjfM8ZlQ"
      }
    },
    {
      "cell_type": "markdown",
      "source": [
        "-> A RESTful API (Representational State Transfer API) is a web service that follows the principles of REST (Representational State Transfer) architecture. REST is an architectural style that defines a set of constraints and principles for building scalable and efficient web services."
      ],
      "metadata": {
        "id": "tnIJ6O5d8gf3"
      }
    },
    {
      "cell_type": "markdown",
      "source": [
        "#2. Explain the concept of API specification?"
      ],
      "metadata": {
        "id": "vQrC43jt81i5"
      }
    },
    {
      "cell_type": "markdown",
      "source": [
        "-> An API Specification is a detailed blueprint that defines how an API should work. It provides a structured description of the API’s endpoints, request/response formats, authentication methods, and other essential details."
      ],
      "metadata": {
        "id": "7Q-1XUD5857B"
      }
    },
    {
      "cell_type": "markdown",
      "source": [
        "#3. What is Flask, and why is it popular for building APIs?"
      ],
      "metadata": {
        "id": "RjM7N2Ty9a-H"
      }
    },
    {
      "cell_type": "markdown",
      "source": [
        "-> Flask is a lightweight and flexible Python web framework used for building web applications and APIs. It follows the WSGI (Web Server Gateway Interface) standard and is designed to be simple yet powerful.\n",
        "Flask is widely used for building APIs because of its simplicity, flexibility, and extensibility."
      ],
      "metadata": {
        "id": "22G-dRGK9ik3"
      }
    },
    {
      "cell_type": "markdown",
      "source": [
        "#4. What is routing in Flask?"
      ],
      "metadata": {
        "id": "jXEyd7M9AZk4"
      }
    },
    {
      "cell_type": "markdown",
      "source": [
        "-> Routing in Flask refers to the process of mapping URLs (endpoints) to specific functions in your application. This allows users to access different parts of your web app or API by visiting specific URLs. In Flask, routing is handled using the @app.route() decorator, which binds a URL pattern to a specific view function."
      ],
      "metadata": {
        "id": "UC-xjDroAlv4"
      }
    },
    {
      "cell_type": "markdown",
      "source": [
        "#5. How do you create a simple Flask application?"
      ],
      "metadata": {
        "id": "GFWnFdejAxFI"
      }
    },
    {
      "cell_type": "markdown",
      "source": [
        "-> Flask is a lightweight Python web framework that helps you create web applications easily. Here’s how to create a basic Flask app in the simplest way possible.\n",
        "\n",
        "-  Create a Python File : Create a new Python file (e.g., app.py)\n",
        "\n",
        "```\n",
        "from flask import Flask  # Import Flask\n",
        "\n",
        "app = Flask(__name__)  # Create a Flask app\n",
        "\n",
        "@app.route('/')  # Define a route for the homepage\n",
        "def home():\n",
        "    return \"Hello, Flask!\"  # Response when visiting the homepage\n",
        "\n",
        "if __name__ == '__main__':\n",
        "    app.run(debug=True)  # Run the Flask app\n",
        "\n",
        "```\n",
        "- Run the Flask Application : Save the file and run it using:\n",
        "\n",
        "\n",
        "`python app.py`\n",
        "\n",
        "- Then we will see output like:\n",
        "\n",
        " `Running on http://127.0.0.1:5000/`\n",
        "\n",
        "- Open in Browser\n",
        "\n",
        "`open browser and go to: http://127.0.0.1:5000/`\n",
        "\n",
        "- We willsee:\n",
        "Hello, Flask!\n",
        "\n"
      ],
      "metadata": {
        "id": "5oe3PrWDAzt4"
      }
    },
    {
      "cell_type": "markdown",
      "source": [
        "# 6. What are HTTP methods used in RESTful APIs?"
      ],
      "metadata": {
        "id": "2vS9LF-bKAXa"
      }
    },
    {
      "cell_type": "markdown",
      "source": [
        "-> In a RESTful API, HTTP methods define the type of operation performed on a resource. Here are some methods with there purpose and example.\n",
        "\n",
        "- GET\t- Retrieve data\n",
        "ex: `GET /users`\n",
        "- POST\t- Create new resource\n",
        "ex: `POST /users`\n",
        "- PUT\t- Update an existing resource\n",
        "ex: `PUT /users/1`\n",
        "- PATCH\t- Partially update a resource\n",
        "ex: `PATCH /users/1`\n",
        "- DELETE\t- Delete a resource\n",
        "ex: `DELETE /users/1`\n",
        "- OPTIONS\t- Check available methods\n",
        "ex: `OPTIONS /users`"
      ],
      "metadata": {
        "id": "k6O-a4ZSLNJa"
      }
    },
    {
      "cell_type": "markdown",
      "source": [
        "#7. What is the purpose of the @app.route() decorator in Flask?"
      ],
      "metadata": {
        "id": "Id5MeBcmMM-a"
      }
    },
    {
      "cell_type": "markdown",
      "source": [
        "-> In Flask, the @app.route() decorator is used to bind a URL path to a Python function that handles requests to that URL. This is fundamental for creating web applications in Flask, allowing you to define what happens when different URLs are accessed by users.\n",
        "\n",
        " The @app.route() decorator is essential in Flask for mapping URLs to specific functions, handling dynamic paths, and supporting multiple HTTP methods."
      ],
      "metadata": {
        "id": "hWVmMmicMRSC"
      }
    },
    {
      "cell_type": "markdown",
      "source": [
        "#8. What is the difference between GET and POST HTTP methods?"
      ],
      "metadata": {
        "id": "OWP6s-TVNLPC"
      }
    },
    {
      "cell_type": "markdown",
      "source": [
        "-> The GET and POST methods are two of the most commonly used HTTP methods for sending requests to a web server. Here are the key differences between them:\n",
        "\n",
        "- Get Method :\n",
        "\n",
        "1. Data is appended to the URL and visible in the browser's address bar.\n",
        "2. Limited by the URL length, which can vary by browser and server. Typically, around 2048 characters.\n",
        "3. Less secure due to visibility in the URL. Sensitive data can be easily exposed in browser history, server logs, etc.\n",
        "4. Ideal for simple data retrieval where the data can be bookmarked or shared.\n",
        "5. Idempotent, meaning multiple identical requests have the same effect as a single request.\n",
        "6. Only ASCII characters are allowed. Non-ASCII characters must be encoded.\n",
        "\n",
        "- HTTP Method :\n",
        "\n",
        "1. Data is included in the request body and not visible in the URL.\n",
        "2. No inherent limit on data size, allowing for large amounts of data to be sent.\n",
        "3. More secure for transmitting sensitive data since it's not exposed in the URL.\n",
        "4. Suited for transactions that result in a change on the server, such as updating data, submitting forms, and uploading files.\n",
        "5. Non-idempotent, meaning multiple identical requests, may have different outcomes.\n",
        "6. Can handle binary data in addition to text, making it suitable for file uploads."
      ],
      "metadata": {
        "id": "S_H01EjGNNrT"
      }
    },
    {
      "cell_type": "markdown",
      "source": [
        "#9. How do you handle errors in Flask APIs?"
      ],
      "metadata": {
        "id": "MMoz9G7r_UgI"
      }
    },
    {
      "cell_type": "markdown",
      "source": [
        "-> Handling errors in Flask APIs is an important aspect of building robust web applications. Flask provides several ways to catch and handle errors, ensuring that your application can respond gracefully to unexpected situations (like invalid input, server errors, etc.).\n",
        "\n",
        "- Use abort() to trigger standard HTTP errors (like 404 or 500).\n",
        "\n",
        "- Create custom error handlers for common HTTP errors (e.g., 404, 500).\n",
        "\n",
        "- Use try-except blocks to handle specific exceptions in your code.\n",
        "\n",
        "- Leverage Marshmallow or Flask-WTF for validating incoming data and returning meaningful error messages.\n",
        "\n",
        "- Custom global hooks (before_request, after_request) to perform checks across requests.\n",
        "\n",
        "- Define and handle custom exceptions with custom error handlers."
      ],
      "metadata": {
        "id": "_xzwfmDv_XH3"
      }
    },
    {
      "cell_type": "markdown",
      "source": [
        "#10. How do you connect Flask to a SQL database?\n"
      ],
      "metadata": {
        "id": "k698adsLBoAA"
      }
    },
    {
      "cell_type": "markdown",
      "source": [
        "-> By using Flask-SQLAlchemy, we can seamlessly connect Flask to any SQL database (like SQLite, PostgreSQL, MySQL, etc.) and interact with the database using Python objects, simplifying the process of building and managing our web application’s database layer.\n",
        "\n",
        "- Install Flask-SQLAlchemy and configure it in your Flask app.\n",
        "\n",
        "- Define models to represent your database tables.\n",
        "\n",
        "- Use db.create_all() to create the database tables based on the models.\n",
        "\n",
        "- Perform CRUD operations using SQLAlchemy’s ORM methods.\n",
        "\n",
        "- Optionally, use Flask-Migrate for handling database migrations."
      ],
      "metadata": {
        "id": "XtKgyIN8Bs4e"
      }
    },
    {
      "cell_type": "markdown",
      "source": [
        "# 11. What is the role of Flask-SQLAlchemy?"
      ],
      "metadata": {
        "id": "UZl78lnlCOtE"
      }
    },
    {
      "cell_type": "markdown",
      "source": [
        "-> Flask-SQLAlchemy is an extension that provides easy integration of SQLAlchemy with Flask. It helps developers work with relational databases in a more Pythonic and manageable way by offering ORM capabilities, automatic table creation, session management, and support for migrations. Flask-SQLAlchemy abstracts the need for writing raw SQL queries, making database interactions easier, cleaner, and more maintainable."
      ],
      "metadata": {
        "id": "e_JjLBEHCWzu"
      }
    },
    {
      "cell_type": "markdown",
      "source": [
        "#12. What are Flask blueprints, and how are they useful?"
      ],
      "metadata": {
        "id": "pwEoaG1aCqWB"
      }
    },
    {
      "cell_type": "markdown",
      "source": [
        "-> Flask blueprints are a powerful tool for organizing larger applications and are especially useful for projects that need to scale or require modular code.\n",
        "\n",
        "- Modularize your app: Blueprints allow you to separate different parts of your app (like user management, admin, and API) into independent modules.\n",
        "\n",
        "- Reusability: You can reuse blueprints across multiple projects or different sections of the same app.\n",
        "\n",
        "- Organize your code: Blueprints help keep your application organized by logically grouping related views, templates, and static files.\n",
        "\n",
        "- URL Prefixing: You can define a url_prefix to group all routes in a blueprint under a common URL prefix.\n",
        "\n",
        "- Blueprints for APIs: They are great for creating and organizing APIs in a clean way."
      ],
      "metadata": {
        "id": "klIv3-IwC6WY"
      }
    },
    {
      "cell_type": "markdown",
      "source": [
        "# 13. What is the purpose of Flask's request object?"
      ],
      "metadata": {
        "id": "CXmkf0xrDG2d"
      }
    },
    {
      "cell_type": "markdown",
      "source": [
        "-> The Flask request object is a central component that gives you access to all the data associated with an incoming HTTP request. It provides methods to access:\n",
        "\n",
        "1. Query parameters (request.args)\n",
        "\n",
        "2. Form data (request.form)\n",
        "\n",
        "3. JSON data (request.get_json())\n",
        "\n",
        "4. Request headers (request.headers)\n",
        "\n",
        "5. Cookies (request.cookies)\n",
        "\n",
        "6. Files (request.files)\n",
        "\n",
        "7. The HTTP method (request.method)\n",
        "\n",
        "It is extremely useful when handling user input, processing form submissions, handling file uploads, or building APIs that receive data in different formats (such as JSON). The request object ensures that Flask can interact with various types of HTTP requests in a seamless and Pythonic way."
      ],
      "metadata": {
        "id": "M89OBMOXDqUq"
      }
    },
    {
      "cell_type": "markdown",
      "source": [
        "#14.  How do you create a RESTful API endpoint using Flask?"
      ],
      "metadata": {
        "id": "LlXZQqVJD1Ex"
      }
    },
    {
      "cell_type": "markdown",
      "source": [
        "-> Creating a RESTful API endpoint using Flask involves setting up a Flask application, defining routes, and returning JSON responses. Here's a step-by-step guide:\n",
        "\n",
        "1. Install Flask\n",
        "2. Create a Flask App\n",
        "\n",
        "\n",
        "```\n",
        "from flask import Flask, jsonify, request\n",
        "\n",
        "app = Flask(__name__)\n",
        "\n",
        "# Sample data (acting as a simple in-memory database)\n",
        "users = [\n",
        "    {\"id\": 1, \"name\": \"Alice\", \"age\": 25},\n",
        "    {\"id\": 2, \"name\": \"Bob\", \"age\": 30},\n",
        "]\n",
        "\n",
        "# Get all users\n",
        "@app.route('/users', methods=['GET'])\n",
        "def get_users():\n",
        "    return jsonify(users)\n",
        "\n",
        "# Get a single user by ID\n",
        "@app.route('/users/<int:user_id>', methods=['GET'])\n",
        "def get_user(user_id):\n",
        "    user = next((user for user in users if user[\"id\"] == user_id), None)\n",
        "    if user:\n",
        "        return jsonify(user)\n",
        "    return jsonify({\"error\": \"User not found\"}), 404\n",
        "\n",
        "# Create a new user\n",
        "@app.route('/users', methods=['POST'])\n",
        "def create_user():\n",
        "    data = request.get_json()\n",
        "    new_user = {\n",
        "        \"id\": len(users) + 1,\n",
        "        \"name\": data[\"name\"],\n",
        "        \"age\": data[\"age\"]\n",
        "    }\n",
        "    users.append(new_user)\n",
        "    return jsonify(new_user), 201\n",
        "\n",
        "# Update an existing user\n",
        "@app.route('/users/<int:user_id>', methods=['PUT'])\n",
        "def update_user(user_id):\n",
        "    data = request.get_json()\n",
        "    user = next((user for user in users if user[\"id\"] == user_id), None)\n",
        "    if user:\n",
        "        user.update(data)\n",
        "        return jsonify(user)\n",
        "    return jsonify({\"error\": \"User not found\"}), 404\n",
        "\n",
        "# Delete a user\n",
        "@app.route('/users/<int:user_id>', methods=['DELETE'])\n",
        "def delete_user(user_id):\n",
        "    global users\n",
        "    users = [user for user in users if user[\"id\"] != user_id]\n",
        "    return jsonify({\"message\": \"User deleted\"}), 200\n",
        "\n",
        "if __name__ == '__main__':\n",
        "    app.run(debug=True)\n",
        "\n",
        "```\n",
        "3. Run the Flask Application\n",
        "\n",
        "Save the script as app.py and run:\n",
        "\n",
        "`python app.py`\n",
        "The API will be accessible at http://127.0.0.1:5000.\n",
        "\n",
        "4. Testing the API\n",
        "\n",
        "Use Postman, cURL, or Python’s requests module to interact with the API.\n",
        "\n",
        "```\n",
        "# Get all users:\n",
        "curl http://127.0.0.1:5000/users\n",
        "```\n",
        "\n",
        "```\n",
        "# Create a user:\n",
        "curl -X POST -H \"Content-Type: application/json\" -d '{\"name\": \"Charlie\", \"age\": 22}' http://127.0.0.1:5000/users\n",
        "```"
      ],
      "metadata": {
        "id": "cZew28BRD44s"
      }
    },
    {
      "cell_type": "markdown",
      "source": [
        "#15. What is the purpose of Flask's jsonify() function?"
      ],
      "metadata": {
        "id": "OWsq57jSLMhG"
      }
    },
    {
      "cell_type": "markdown",
      "source": [
        "-> Flask's jsonify() function is used to convert Python data structures (like dictionaries and lists) into JSON format, which is the standard format for API responses. It also automatically sets the correct Content-Type header (application/json) in the HTTP response."
      ],
      "metadata": {
        "id": "_MRq0gGrLXO7"
      }
    },
    {
      "cell_type": "markdown",
      "source": [
        "#16. Explain Flask’s url_for() function."
      ],
      "metadata": {
        "id": "nX46XD9oLaiO"
      }
    },
    {
      "cell_type": "markdown",
      "source": [
        "-> Flask’s url_for() function is used to generate URLs for routes dynamically instead of hardcoding them. This makes it easier to maintain and modify URLs within a Flask application.\n",
        "\n",
        "- Generates URLs dynamically\n",
        "- Avoids hardcoding\n",
        "- Supports query parameters\n",
        "- Works with static files"
      ],
      "metadata": {
        "id": "WOLP1DPnLfFd"
      }
    },
    {
      "cell_type": "markdown",
      "source": [
        "#17. How does Flask handle static files (CSS, JavaScript, etc.)?"
      ],
      "metadata": {
        "id": "4VJfrLCGMBta"
      }
    },
    {
      "cell_type": "markdown",
      "source": [
        "-> Flask serves static files (CSS, JavaScript, images) from a special /static directory inside your project. The framework automatically maps requests for these files to the appropriate location. Here are some steps to handle static file:\n",
        "\n",
        "- Place static files in the /static folder\n",
        "- Use url_for('static', filename='...') to reference them\n",
        "- Can serve additional directories with send_from_directory()\n",
        "- Can change the default static folder\n",
        "-  Avoid browser caching during development with timestamps"
      ],
      "metadata": {
        "id": "BxVDwEe3MGWE"
      }
    },
    {
      "cell_type": "markdown",
      "source": [
        "# 18. What is an API specification, and how does it help in building a Flask API?"
      ],
      "metadata": {
        "id": "JQwmbVv7N5u9"
      }
    },
    {
      "cell_type": "markdown",
      "source": [
        "-> An API Specification is a formal document or standard that defines how an API should behave, including its endpoints, request/response formats, authentication methods, and data structures. It acts as a contract between the API provider and consumers."
      ],
      "metadata": {
        "id": "1gU3FCaqOAl7"
      }
    },
    {
      "cell_type": "markdown",
      "source": [
        "#19. What are HTTP status codes, and why are they important in a Flask API?"
      ],
      "metadata": {
        "id": "AaDiywWCOh9l"
      }
    },
    {
      "cell_type": "markdown",
      "source": [
        "-> HTTP status codes are three-digit numbers returned by a server to indicate the result of an HTTP request. They help clients (e.g., browsers, mobile apps, or other APIs) understand whether a request was successful, failed, or needs further action.\n",
        "\n",
        "> Why Are Status Codes Important in a Flask API?\n",
        "\n",
        "- Clear Communication – Helps clients understand the result of a request.\n",
        "- Error Handling – Allows clients to handle failures properly (e.g., retry on 503 Service Unavailable).\n",
        "- RESTful API Standards – Makes APIs more predictable and standardized.\n",
        "- Debugging & Logging – Helps developers identify issues easily."
      ],
      "metadata": {
        "id": "fgdlSVKQOnK7"
      }
    },
    {
      "cell_type": "markdown",
      "source": [
        "#20.  How do you handle POST requests in Flask?"
      ],
      "metadata": {
        "id": "RwlqBHIhPKOu"
      }
    },
    {
      "cell_type": "markdown",
      "source": [
        "-> A POST request is used to send data to a server to create or update a resource. In Flask, you handle POST requests using the @app.route() decorator with the methods=['POST'] argument.\n",
        "\n",
        "- Use request.get_json() for JSON data\n",
        "- Use request.form for form submissions\n",
        "- Use request.files for file uploads\n",
        "- Validate input to avoid errors\n",
        "- Return appropriate HTTP status codes (201 Created, 400 Bad Request)"
      ],
      "metadata": {
        "id": "k4Q-B8P2PCVM"
      }
    },
    {
      "cell_type": "markdown",
      "source": [
        "#21. How would you secure a Flask API?"
      ],
      "metadata": {
        "id": "kJPIPG5PPfH8"
      }
    },
    {
      "cell_type": "markdown",
      "source": [
        "-> Securing a Flask API is crucial to prevent unauthorized access, data breaches, and attacks such as SQL Injection, Cross-Site Scripting (XSS), and Cross-Site Request Forgery (CSRF). Below are key strategies to enhance Flask API security.\n",
        "\n",
        "- Use JWT Authentication for secure access.\n",
        "- Implement Rate Limiting to prevent abuse.\n",
        "- Validate and sanitize user input.\n",
        "- Enable HTTPS for encrypted communication.\n",
        "- Use CORS restrictions to control access.\n",
        "- Implement CSRF protection where necessary.\n",
        "- Hide error messages to prevent information leaks."
      ],
      "metadata": {
        "id": "SyBgD3cWPpqe"
      }
    },
    {
      "cell_type": "markdown",
      "source": [
        "#22. What is the significance of the Flask-RESTful extension?"
      ],
      "metadata": {
        "id": "I1-OvREGP17q"
      }
    },
    {
      "cell_type": "markdown",
      "source": [
        "-> Flask-RESTful is an extension for Flask that simplifies the creation of RESTful APIs by providing a structured way to define API resources, request parsing, and response formatting.\n",
        "\n",
        "Why Use Flask-RESTful?\n",
        "\n",
        "- Simplifies API Development – Reduces boilerplate code.\n",
        "- Built-in Request Parsing – Handles query parameters and JSON payloads efficiently.\n",
        "- Automatic Response Formatting – Returns JSON responses by default.\n",
        "- Class-Based API Views – Encourages object-oriented programming (OOP).\n",
        "- Status Code Management – Makes error handling more readable."
      ],
      "metadata": {
        "id": "o6RZYACSP7RV"
      }
    },
    {
      "cell_type": "markdown",
      "source": [
        "#23. What is the role of Flask’s session object?"
      ],
      "metadata": {
        "id": "SNmxqTiIQTyz"
      }
    },
    {
      "cell_type": "markdown",
      "source": [
        "-> Flask’s session object is used to store user-specific data across multiple requests. It enables state management by keeping track of information such as user authentication, preferences, and session tokens.\n",
        "\n",
        "How Flask’s session Works :\n",
        "\n",
        "- session stores user-specific data across requests.\n",
        "- Requires app.secret_key to prevent tampering.\n",
        "- Supports custom expiration and server-side storage.\n",
        "- Use Flask-Session for better security."
      ],
      "metadata": {
        "id": "2zt5wzEdQWLS"
      }
    },
    {
      "cell_type": "markdown",
      "source": [
        "# Practical Questions"
      ],
      "metadata": {
        "id": "8WpKMQ92Q_Rp"
      }
    },
    {
      "cell_type": "markdown",
      "source": [
        "1. How do you create a basic Flask application?"
      ],
      "metadata": {
        "id": "zM-XLCGPRGiP"
      }
    },
    {
      "cell_type": "code",
      "source": [
        "pip install pyngrok\n"
      ],
      "metadata": {
        "colab": {
          "base_uri": "https://localhost:8080/"
        },
        "id": "n9Kdjgcnf9QC",
        "outputId": "d7137e07-0bbc-46ab-ed38-4a1f71567c0d"
      },
      "execution_count": null,
      "outputs": [
        {
          "output_type": "stream",
          "name": "stdout",
          "text": [
            "Collecting pyngrok\n",
            "  Downloading pyngrok-7.2.3-py3-none-any.whl.metadata (8.7 kB)\n",
            "Requirement already satisfied: PyYAML>=5.1 in /usr/local/lib/python3.11/dist-packages (from pyngrok) (6.0.2)\n",
            "Downloading pyngrok-7.2.3-py3-none-any.whl (23 kB)\n",
            "Installing collected packages: pyngrok\n",
            "Successfully installed pyngrok-7.2.3\n"
          ]
        }
      ]
    },
    {
      "cell_type": "code",
      "source": [
        "from flask import Flask\n",
        "from pyngrok import ngrok"
      ],
      "metadata": {
        "id": "fC8_D6kCgAQj"
      },
      "execution_count": null,
      "outputs": []
    },
    {
      "cell_type": "code",
      "source": [
        "port_no = 4000"
      ],
      "metadata": {
        "id": "OXjXd6sqgudy"
      },
      "execution_count": null,
      "outputs": []
    },
    {
      "cell_type": "code",
      "source": [
        "app = Flask(__name__)\n",
        "ngrok.set_auth_token(\"type Auth code\")\n",
        "public_url =  ngrok.connect(port_no).public_url\n",
        "\n",
        "@app.route(\"/\")\n",
        "def home():\n",
        "    return f\"Hey there. I am using Flask\"\n",
        "\n",
        "print(f\"To acces the Gloable link please click {public_url}\")\n",
        "\n",
        "app.run(port=port_no)"
      ],
      "metadata": {
        "id": "PHQ6MNcMgxc0"
      },
      "execution_count": null,
      "outputs": []
    },
    {
      "cell_type": "markdown",
      "source": [
        "#2. How do you serve static files like images or CSS in Flask?"
      ],
      "metadata": {
        "id": "O6RNTN5cobVp"
      }
    },
    {
      "cell_type": "code",
      "source": [
        "from flask import send_from_directory\n",
        "import os\n",
        "\n",
        "# Change the endpoint name to avoid conflict\n",
        "@app.route('/sample_data/<path:filename>')\n",
        "def serve_static(filename):\n",
        "    return send_from_directory('/sample_data', filename)"
      ],
      "metadata": {
        "id": "h3ieWCNSg16O"
      },
      "execution_count": null,
      "outputs": []
    },
    {
      "cell_type": "markdown",
      "source": [
        "#3. How do you define different routes with different HTTP methods in Flask?"
      ],
      "metadata": {
        "id": "RHXDRzWbs-hS"
      }
    },
    {
      "cell_type": "code",
      "source": [
        "from flask import Flask, request\n",
        "from pyngrok import ngrok\n",
        "\n",
        "app = Flask(__name__)\n",
        "ngrok.set_auth_token(\"Type your auth code\")\n",
        "public_url =  ngrok.connect(port_no).public_url\n",
        "\n",
        "@app.route('/hello', methods=['GET'])\n",
        "def hello():\n",
        "    return \"Hello, World!\"\n",
        "\n",
        "@app.route('/hello', methods=['POST'])\n",
        "def hello_post():\n",
        "    data = request.json\n",
        "    return f\"Received: {data}\"\n",
        "\n",
        "@app.route('/hello', methods=['PUT'])\n",
        "def hello_put():\n",
        "    data = request.json\n",
        "    return f\"Updated: {data}\"\n",
        "\n",
        "@app.route('/hello', methods=['DELETE'])\n",
        "def hello_delete():\n",
        "    return \"Deleted\"\n",
        "\n",
        "if __name__ == '__main__':\n",
        "    app.run()\n"
      ],
      "metadata": {
        "id": "y8k9yqQdpdE5"
      },
      "execution_count": null,
      "outputs": []
    },
    {
      "cell_type": "markdown",
      "source": [
        "#4. How do you render HTML templates in Flask?"
      ],
      "metadata": {
        "id": "mHpMt6Fx6Byy"
      }
    },
    {
      "cell_type": "code",
      "source": [
        "from flask import Flask, render_template\n",
        "from flask_ngrok import run_with_ngrok\n",
        "run_with_ngrok(app)\n",
        "\n",
        "app = Flask(__name__)  # Initialize Flask app\n",
        "\n",
        "# Home Page Route\n",
        "@app.route('/')\n",
        "def home():\n",
        "    return render_template('index.html')\n",
        "\n",
        "# User Page with Dynamic Name\n",
        "@app.route('/index.html')\n",
        "def user(name):\n",
        "    return render_template('index.html', username=name)\n",
        "\n",
        "# Users List Page\n",
        "@app.route('/index.html')\n",
        "def users():\n",
        "    user_list = [\"Alice\", \"Bob\", \"Charlie\", \"David\"]\n",
        "    return render_template('index.html', users=user_list)\n",
        "\n",
        "if __name__ == '__main__':\n",
        "    app.run(debug=True)\n"
      ],
      "metadata": {
        "id": "wkBWM8kQt5PA"
      },
      "execution_count": null,
      "outputs": []
    },
    {
      "cell_type": "markdown",
      "source": [
        "#5. How can you generate URLs for routes in Flask using url_for?"
      ],
      "metadata": {
        "id": "tz0a9Osc8hBe"
      }
    },
    {
      "cell_type": "code",
      "source": [
        "from flask import Flask, url_for, render_template\n",
        "\n",
        "app = Flask(__name__)\n",
        "\n",
        "@app.route('/')\n",
        "def home():\n",
        "    return f\"Home Page - Visit the <a href='{url_for('about')}'>About Page</a>\"\n",
        "\n",
        "@app.route('/about')\n",
        "def about():\n",
        "    return \"This is the About Page.\"\n",
        "\n",
        "if __name__ == '__main__':\n",
        "    app.run(debug=True)\n"
      ],
      "metadata": {
        "id": "mkZSkh0j7YtU"
      },
      "execution_count": null,
      "outputs": []
    },
    {
      "cell_type": "code",
      "source": [
        "# Generating URLs with Query Parameters\n",
        "\n",
        "@app.route('/posts')\n",
        "def posts():\n",
        "    page = request.args.get('page', 1)  # Get 'page' from URL, default to 1\n",
        "    return f\"Displaying posts on page {page}\"\n"
      ],
      "metadata": {
        "id": "a7d2NYJ49Gad"
      },
      "execution_count": null,
      "outputs": []
    },
    {
      "cell_type": "code",
      "source": [
        "# Generating URLs for Static Files\n",
        "\n",
        "url_for('static', filename='css/style.css')\n"
      ],
      "metadata": {
        "id": "bkyyEKuN9Rns"
      },
      "execution_count": null,
      "outputs": []
    },
    {
      "cell_type": "markdown",
      "source": [
        "#6.  How do you handle forms in Flask?"
      ],
      "metadata": {
        "id": "WY-ZR9_Clnwv"
      }
    },
    {
      "cell_type": "code",
      "source": [
        "# Create a Flask App (app.py)\n",
        "\n",
        "from flask import Flask, render_template, request\n",
        "\n",
        "app = Flask(__name__)\n",
        "\n",
        "@app.route(\"/\", methods=[\"GET\", \"POST\"])\n",
        "def index():\n",
        "    if request.method == \"POST\":\n",
        "        name = request.form[\"name\"]  # Get form data\n",
        "        return f\"Hello, {name}!\"\n",
        "    return render_template(\"form.html\")  # Render the form\n",
        "\n",
        "if __name__ == \"__main__\":\n",
        "    app.run(debug=True)\n"
      ],
      "metadata": {
        "id": "GO82T5LUlvCy"
      },
      "execution_count": null,
      "outputs": []
    },
    {
      "cell_type": "code",
      "source": [
        "# Create an HTML Form (templates/form.html)\n",
        "\n",
        "<!DOCTYPE html>\n",
        "<html>\n",
        "<head>\n",
        "    <title>Flask Form</title>\n",
        "</head>\n",
        "<body>\n",
        "    <h1>Enter Your Name</h1>\n",
        "    <form method=\"POST\">\n",
        "        <input type=\"text\" name=\"name\" placeholder=\"Your Name\" required>\n",
        "        <button type=\"submit\">Submit</button>\n",
        "    </form>\n",
        "</body>\n",
        "</html>\n"
      ],
      "metadata": {
        "id": "ZghFz1ajmaYc"
      },
      "execution_count": null,
      "outputs": []
    },
    {
      "cell_type": "code",
      "source": [
        "python app.py"
      ],
      "metadata": {
        "id": "u_1ByLoQmlwS"
      },
      "execution_count": null,
      "outputs": []
    },
    {
      "cell_type": "markdown",
      "source": [
        "#7. How can you validate form data in Flask?"
      ],
      "metadata": {
        "id": "bOxy9-INmosJ"
      }
    },
    {
      "cell_type": "code",
      "source": [
        "# Form Validation with Flask-WTF\n",
        "\n",
        "from flask_wtf import FlaskForm\n",
        "from wtforms import StringField, EmailField, SubmitField\n",
        "from wtforms.validators import DataRequired, Email, Length\n",
        "\n",
        "class MyForm(FlaskForm):\n",
        "    name = StringField(\"Name\", validators=[DataRequired(), Length(min=2, max=20)])\n",
        "    email = EmailField(\"Email\", validators=[DataRequired(), Email()])\n",
        "    submit = SubmitField(\"Submit\")\n"
      ],
      "metadata": {
        "id": "e9wR3mfNm03D"
      },
      "execution_count": null,
      "outputs": []
    },
    {
      "cell_type": "code",
      "source": [
        "# Update app.py\n",
        "\n",
        "from flask import Flask, render_template\n",
        "from forms import MyForm  # Import the form class\n",
        "\n",
        "app = Flask(__name__)\n",
        "app.config[\"SECRET_KEY\"] = \"your_secret_key\"  # Required for CSRF protection\n",
        "\n",
        "@app.route(\"/\", methods=[\"GET\", \"POST\"])\n",
        "def index():\n",
        "    form = MyForm()\n",
        "    if form.validate_on_submit():\n",
        "        return f\"Hello, {form.name.data}! Your email is {form.email.data}.\"\n",
        "    return render_template(\"form_wtf.html\", form=form)\n",
        "\n",
        "if __name__ == \"__main__\":\n",
        "    app.run(debug=True)\n"
      ],
      "metadata": {
        "id": "VhiV14UXnUIZ"
      },
      "execution_count": null,
      "outputs": []
    },
    {
      "cell_type": "code",
      "source": [
        "# Create an HTML Form (templates/form_wtf.html)\n",
        "\n",
        "<!DOCTYPE html>\n",
        "<html>\n",
        "<head>\n",
        "    <title>Flask WTF Form</title>\n",
        "</head>\n",
        "<body>\n",
        "    <h1>Flask-WTF Form Validation</h1>\n",
        "    <form method=\"POST\">\n",
        "        {{ form.hidden_tag() }}  <!-- CSRF Token -->\n",
        "\n",
        "        <p>{{ form.name.label }} {{ form.name() }}</p>\n",
        "        {% if form.name.errors %}\n",
        "            <ul>\n",
        "                {% for error in form.name.errors %}\n",
        "                    <li style=\"color: red;\">{{ error }}</li>\n",
        "                {% endfor %}\n",
        "            </ul>\n",
        "        {% endif %}\n",
        "\n",
        "        <p>{{ form.email.label }} {{ form.email() }}</p>\n",
        "        {% if form.email.errors %}\n",
        "            <ul>\n",
        "                {% for error in form.email.errors %}\n",
        "                    <li style=\"color: red;\">{{ error }}</li>\n",
        "                {% endfor %}\n",
        "            </ul>\n",
        "        {% endif %}\n",
        "\n",
        "        <p>{{ form.submit() }}</p>\n",
        "    </form>\n",
        "</body>\n",
        "</html>\n"
      ],
      "metadata": {
        "id": "67z04oftnhpM"
      },
      "execution_count": null,
      "outputs": []
    },
    {
      "cell_type": "markdown",
      "source": [
        "# 8. How do you manage sessions in Flask?"
      ],
      "metadata": {
        "id": "mXI-JY-0n_0E"
      }
    },
    {
      "cell_type": "code",
      "source": [
        "# Import session and Set a Secret Key\n",
        "\n",
        "from flask import Flask, session, redirect, url_for, request, render_template\n",
        "\n",
        "app = Flask(__name__)\n",
        "app.config[\"SECRET_KEY\"] = \"your_secret_key\"  # Required to sign session cookies\n",
        "\n",
        "@app.route(\"/\")\n",
        "def index():\n",
        "    return render_template(\"index.html\")\n",
        "\n",
        "if __name__ == \"__main__\":\n",
        "    app.run(debug=True)\n"
      ],
      "metadata": {
        "id": "moq3vA2roOyJ"
      },
      "execution_count": null,
      "outputs": []
    },
    {
      "cell_type": "code",
      "source": [
        "# Storing and Retrieving Session Data\n",
        "\n",
        "@app.route(\"/login\", methods=[\"POST\", \"GET\"])\n",
        "def login():\n",
        "    if request.method == \"POST\":\n",
        "        username = request.form[\"username\"]\n",
        "        session[\"user\"] = username  # Store username in session\n",
        "        return redirect(url_for(\"dashboard\"))\n",
        "    return render_template(\"login.html\")\n",
        "\n",
        "@app.route(\"/dashboard\")\n",
        "def dashboard():\n",
        "    if \"user\" in session:\n",
        "        return f\"Welcome, {session['user']}! <a href='/logout'>Logout</a>\"\n",
        "    return redirect(url_for(\"login\"))\n",
        "\n",
        "@app.route(\"/logout\")\n",
        "def logout():\n",
        "    session.pop(\"user\", None)  # Remove user from session\n",
        "    return redirect(url_for(\"login\"))\n"
      ],
      "metadata": {
        "id": "cn_Vky5joZea"
      },
      "execution_count": null,
      "outputs": []
    },
    {
      "cell_type": "code",
      "source": [
        "# Create Login Form (templates/login.html)\n",
        "\n",
        "<!DOCTYPE html>\n",
        "<html>\n",
        "<head>\n",
        "    <title>Login</title>\n",
        "</head>\n",
        "<body>\n",
        "    <h2>Login</h2>\n",
        "    <form method=\"POST\">\n",
        "        <input type=\"text\" name=\"username\" placeholder=\"Enter Username\" required>\n",
        "        <button type=\"submit\">Login</button>\n",
        "    </form>\n",
        "</body>\n",
        "</html>\n"
      ],
      "metadata": {
        "id": "Puu6cZ8doghu"
      },
      "execution_count": null,
      "outputs": []
    },
    {
      "cell_type": "markdown",
      "source": [
        "#9.  How do you redirect to a different route in Flask?"
      ],
      "metadata": {
        "id": "f4F6ThdTonRR"
      }
    },
    {
      "cell_type": "code",
      "source": [
        "# Basic Redirection Using redirect() and url_for()\n",
        "\n",
        "from flask import Flask, redirect, url_for\n",
        "\n",
        "app = Flask(__name__)\n",
        "\n",
        "@app.route(\"/\")\n",
        "def home():\n",
        "    return \"Welcome to the Home Page! <a href='/dashboard'>Go to Dashboard</a>\"\n",
        "\n",
        "@app.route(\"/dashboard\")\n",
        "def dashboard():\n",
        "    return \"This is the Dashboard Page!\"\n",
        "\n",
        "@app.route(\"/redirect-to-dashboard\")\n",
        "def redirect_to_dashboard():\n",
        "    return redirect(url_for(\"dashboard\"))  # Redirect to dashboard\n",
        "\n",
        "if __name__ == \"__main__\":\n",
        "    app.run(debug=True)\n",
        "\n"
      ],
      "metadata": {
        "id": "uS2ttDuFotMs"
      },
      "execution_count": null,
      "outputs": []
    },
    {
      "cell_type": "markdown",
      "source": [
        "#10.  How do you handle errors in Flask (e.g., 404)?"
      ],
      "metadata": {
        "id": "CQMtxckDpvEK"
      }
    },
    {
      "cell_type": "code",
      "source": [
        "# Handling 404 Errors\n",
        "\n",
        "from flask import Flask, render_template\n",
        "\n",
        "app = Flask(__name__)\n",
        "\n",
        "@app.errorhandler(404)\n",
        "def not_found(error):\n",
        "    return render_template(\"404.html\"), 404  # Return custom 404 page\n"
      ],
      "metadata": {
        "id": "tP-VD61Lp9pK"
      },
      "execution_count": null,
      "outputs": []
    },
    {
      "cell_type": "code",
      "source": [
        "# templates/404.html\n",
        "\n",
        "<!DOCTYPE html>\n",
        "<html>\n",
        "<head>\n",
        "    <title>Page Not Found</title>\n",
        "</head>\n",
        "<body>\n",
        "    <h1>404 - Page Not Found</h1>\n",
        "    <p>Oops! The page you are looking for does not exist.</p>\n",
        "    <a href=\"/\">Go Back Home</a>\n",
        "</body>\n",
        "</html>\n"
      ],
      "metadata": {
        "id": "SgIvQGfPqHff"
      },
      "execution_count": null,
      "outputs": []
    },
    {
      "cell_type": "markdown",
      "source": [
        "#11. How do you structure a Flask app using Blueprints?"
      ],
      "metadata": {
        "id": "2dEcUf-RMdjO"
      }
    },
    {
      "cell_type": "code",
      "source": [
        "# A Flask project with Blueprints typically follows this structure:\n",
        "\n",
        "flask_app/\n",
        "│── app.py             # Main Flask application\n",
        "│── config.py          # Configuration settings (optional)\n",
        "│── routes/\n",
        "│   │── __init__.py    # Initializes the blueprint\n",
        "│   │── users.py       # User-related routes\n",
        "│   │── products.py    # Product-related routes\n",
        "│── templates/         # HTML templates (if needed)\n",
        "│── static/            # CSS, JS, images (if needed)\n",
        "│── venv/              # Virtual environment (optional)\n",
        "│── requirements.txt   # Dependencies (optional)\n"
      ],
      "metadata": {
        "id": "vAf_FGmTND3l"
      },
      "execution_count": null,
      "outputs": []
    },
    {
      "cell_type": "code",
      "source": [
        "# Create the Flask App (app.py)\n",
        "\n",
        "from flask import Flask\n",
        "from routes.users import users_bp  # Import the user Blueprint\n",
        "from routes.products import products_bp  # Import the product Blueprint\n",
        "\n",
        "app = Flask(__name__)\n",
        "\n",
        "# Register Blueprints\n",
        "app.register_blueprint(users_bp, url_prefix='/users')\n",
        "app.register_blueprint(products_bp, url_prefix='/products')\n",
        "\n",
        "if __name__ == '__main__':\n",
        "    app.run(debug=True)\n"
      ],
      "metadata": {
        "id": "rJGHOKhbNXho"
      },
      "execution_count": null,
      "outputs": []
    },
    {
      "cell_type": "code",
      "source": [
        "#Create a Blueprint for Users (routes/users.py)\n",
        "\n",
        "from flask import Blueprint, jsonify\n",
        "\n",
        "users_bp = Blueprint('users', __name__)  # Create a Blueprint\n",
        "\n",
        "@users_bp.route('/', methods=['GET'])\n",
        "def get_users():\n",
        "    users = [{\"id\": 1, \"name\": \"Alice\"}, {\"id\": 2, \"name\": \"Bob\"}]\n",
        "    return jsonify(users)\n",
        "\n",
        "@users_bp.route('/<int:user_id>', methods=['GET'])\n",
        "def get_user(user_id):\n",
        "    return jsonify({\"id\": user_id, \"name\": f\"User {user_id}\"})\n"
      ],
      "metadata": {
        "id": "XukdJqLPNfdp"
      },
      "execution_count": null,
      "outputs": []
    },
    {
      "cell_type": "code",
      "source": [
        "# Create a Blueprint for Products (routes/products.py)\n",
        "\n",
        "from flask import Blueprint, jsonify\n",
        "\n",
        "products_bp = Blueprint('products', __name__)  # Create a Blueprint\n",
        "\n",
        "@products_bp.route('/', methods=['GET'])\n",
        "def get_products():\n",
        "    products = [{\"id\": 1, \"name\": \"Laptop\"}, {\"id\": 2, \"name\": \"Phone\"}]\n",
        "    return jsonify(products)\n"
      ],
      "metadata": {
        "id": "C4BvCT0hNqSt"
      },
      "execution_count": null,
      "outputs": []
    },
    {
      "cell_type": "code",
      "source": [
        "# Initialize Blueprints (routes/__init__.py) and run the app\n",
        "\n",
        "from .users import users_bp\n",
        "from .products import products_bp\n",
        "\n",
        "\n",
        "python app.py\n"
      ],
      "metadata": {
        "id": "EQ4IzElyNx6q"
      },
      "execution_count": null,
      "outputs": []
    },
    {
      "cell_type": "markdown",
      "source": [
        "#12. How do you define a custom Jinja filter in Flask?"
      ],
      "metadata": {
        "id": "BIhHyZhyNDCx"
      }
    },
    {
      "cell_type": "code",
      "source": [
        "from flask import Flask, render_template\n",
        "\n",
        "app = Flask(__name__)\n",
        "\n",
        "# Define a custom Jinja filter\n",
        "def reverse_string(value):\n",
        "    \"\"\"Reverses a string.\"\"\"\n",
        "    return value[::-1]\n",
        "\n",
        "# Register the custom filter in Flask\n",
        "app.jinja_env.filters['reverse'] = reverse_string\n",
        "\n",
        "@app.route('/')\n",
        "def index():\n",
        "    return render_template('index.html', name=\"Flask\")\n",
        "\n",
        "if __name__ == '__main__':\n",
        "    app.run(debug=True)\n"
      ],
      "metadata": {
        "id": "6mV40UBGOJ2m"
      },
      "execution_count": null,
      "outputs": []
    },
    {
      "cell_type": "code",
      "source": [
        "#Use the Custom Filter in a Template (templates/index.html)\n",
        "\n",
        "<!DOCTYPE html>\n",
        "<html>\n",
        "<head>\n",
        "    <title>Custom Jinja Filter</title>\n",
        "</head>\n",
        "<body>\n",
        "    <h1>Original: {{ name }}</h1>\n",
        "    <h1>Reversed: {{ name | reverse }}</h1>\n",
        "</body>\n",
        "</html>\n"
      ],
      "metadata": {
        "id": "z_cOrI-hONE1"
      },
      "execution_count": null,
      "outputs": []
    },
    {
      "cell_type": "markdown",
      "source": [
        "#13. How can you redirect with query parameters in Flask?"
      ],
      "metadata": {
        "id": "2_F4v3CBOU4E"
      }
    },
    {
      "cell_type": "code",
      "source": [
        "from flask import Flask, redirect, url_for, request\n",
        "\n",
        "app = Flask(__name__)\n",
        "\n",
        "@app.route('/')\n",
        "def home():\n",
        "    return \"Welcome to the Home Page!\"\n",
        "\n",
        "@app.route('/redirect-example')\n",
        "def redirect_example():\n",
        "    # Redirect to '/destination' with query parameters\n",
        "    return redirect(url_for('destination', name='Alice', age=25))\n",
        "\n",
        "@app.route('/destination')\n",
        "def destination():\n",
        "    # Get query parameters from the URL\n",
        "    name = request.args.get('name')\n",
        "    age = request.args.get('age')\n",
        "    return f\"Redirected! Name: {name}, Age: {age}\"\n",
        "\n",
        "if __name__ == '__main__':\n",
        "    app.run(debug=True)\n"
      ],
      "metadata": {
        "id": "bF437Kt9OY3x"
      },
      "execution_count": null,
      "outputs": []
    },
    {
      "cell_type": "markdown",
      "source": [
        "#14. How do you return JSON responses in Flask?"
      ],
      "metadata": {
        "id": "xzflypebOYNx"
      }
    },
    {
      "cell_type": "code",
      "source": [
        "from flask import Flask, jsonify\n",
        "\n",
        "app = Flask(__name__)\n",
        "\n",
        "@app.route('/json')\n",
        "def json_response():\n",
        "    data = {\"message\": \"Hello, Flask!\", \"status\": \"success\"}\n",
        "    return jsonify(data)  # Converts dictionary to JSON\n",
        "\n",
        "if __name__ == '__main__':\n",
        "    app.run(debug=True)\n"
      ],
      "metadata": {
        "id": "GFrfQLXkOkEb"
      },
      "execution_count": 1,
      "outputs": []
    },
    {
      "cell_type": "markdown",
      "source": [
        "#15. How do you capture URL parameters in Flask?"
      ],
      "metadata": {
        "id": "5QBEsHRWO54b"
      }
    },
    {
      "cell_type": "code",
      "source": [
        "# Capture a Single Parameter\n",
        "\n",
        "from flask import Flask\n",
        "\n",
        "app = Flask(__name__)\n",
        "\n",
        "@app.route('/user/<name>')  # Capture 'name' from URL\n",
        "def greet_user(name):\n",
        "    return f\"Hello, {name}!\"\n",
        "\n",
        "if __name__ == '__main__':\n",
        "    app.run(debug=True)\n"
      ],
      "metadata": {
        "id": "m9uuJbAEOsIR"
      },
      "execution_count": null,
      "outputs": []
    }
  ]
}